{
 "cells": [
  {
   "cell_type": "code",
   "execution_count": 21,
   "metadata": {},
   "outputs": [],
   "source": [
    "import pandas as pd"
   ]
  },
  {
   "cell_type": "code",
   "execution_count": 22,
   "metadata": {},
   "outputs": [
    {
     "name": "stdout",
     "output_type": "stream",
     "text": [
      "content               0\n",
      "created_at           11\n",
      "date                 11\n",
      "likeCount            11\n",
      "media             31440\n",
      "outlinks             11\n",
      "quoteCount           11\n",
      "quotedTweet       53928\n",
      "replyCount           11\n",
      "retweetCount         11\n",
      "retweetedTweet    54383\n",
      "url                  11\n",
      "id                   11\n",
      "conversationId       11\n",
      "dtype: int64\n"
     ]
    }
   ],
   "source": [
    "df=pd.read_csv('data/nasa.csv')\n",
    "print(df.isnull().sum())"
   ]
  },
  {
   "cell_type": "code",
   "execution_count": 23,
   "metadata": {},
   "outputs": [],
   "source": [
    "df.drop(columns=['quotedTweet','retweetedTweet','outlinks','created_at','id','conversationId'], inplace=True)"
   ]
  },
  {
   "cell_type": "code",
   "execution_count": 24,
   "metadata": {},
   "outputs": [],
   "source": [
    "df = df.dropna(subset=['date'])"
   ]
  },
  {
   "cell_type": "code",
   "execution_count": 25,
   "metadata": {},
   "outputs": [
    {
     "name": "stdout",
     "output_type": "stream",
     "text": [
      "content             0\n",
      "date                0\n",
      "likeCount           0\n",
      "media           31429\n",
      "quoteCount          0\n",
      "replyCount          0\n",
      "retweetCount        0\n",
      "url                 0\n",
      "dtype: int64\n"
     ]
    }
   ],
   "source": [
    "print(df.isnull().sum())"
   ]
  },
  {
   "cell_type": "code",
   "execution_count": 26,
   "metadata": {},
   "outputs": [],
   "source": [
    "import re\n",
    "def extract_media_type(media_entry):\n",
    "    if pd.isna(media_entry) or not media_entry:\n",
    "        return 'Text'\n",
    "    else:\n",
    "        # Using regex to find the media type between [ and (\n",
    "        match = re.search(r'\\[(\\w+)\\(', media_entry)\n",
    "        if match:\n",
    "            return match.group(1)\n",
    "        else:\n",
    "            return 'Error'\n"
   ]
  },
  {
   "cell_type": "code",
   "execution_count": 27,
   "metadata": {},
   "outputs": [],
   "source": [
    "df['post_type'] = df['media'].apply(extract_media_type)"
   ]
  },
  {
   "cell_type": "code",
   "execution_count": 28,
   "metadata": {},
   "outputs": [
    {
     "name": "stdout",
     "output_type": "stream",
     "text": [
      "content             0\n",
      "date                0\n",
      "likeCount           0\n",
      "media           31429\n",
      "quoteCount          0\n",
      "replyCount          0\n",
      "retweetCount        0\n",
      "url                 0\n",
      "post_type           0\n",
      "dtype: int64\n"
     ]
    }
   ],
   "source": [
    "print(df.isnull().sum())"
   ]
  },
  {
   "cell_type": "code",
   "execution_count": 29,
   "metadata": {},
   "outputs": [],
   "source": [
    "df.drop(columns=['media'], inplace=True)\n",
    "df['date'] = pd.to_datetime(df['date'])\n",
    "df['date(dd/mm/yyyy)'] = df['date'].dt.strftime('%d/%m/%Y')\n",
    "df['time(hh:mm:ss)'] = df['date'].dt.strftime('%H:%M:%S')\n",
    "df.drop(columns=['date'], inplace=True)\n",
    "df.to_csv('data/nasa_tweets.csv', index=False) "
   ]
  },
  {
   "cell_type": "code",
   "execution_count": 31,
   "metadata": {},
   "outputs": [
    {
     "data": {
      "text/plain": [
       "54372"
      ]
     },
     "execution_count": 31,
     "metadata": {},
     "output_type": "execute_result"
    }
   ],
   "source": [
    "import sqlite3\n",
    "conn=sqlite3.connect('tweets.db')\n",
    "df.to_sql('nasa_tweets', conn, if_exists='replace', index=False)"
   ]
  }
 ],
 "metadata": {
  "kernelspec": {
   "display_name": "Python 3",
   "language": "python",
   "name": "python3"
  },
  "language_info": {
   "codemirror_mode": {
    "name": "ipython",
    "version": 3
   },
   "file_extension": ".py",
   "mimetype": "text/x-python",
   "name": "python",
   "nbconvert_exporter": "python",
   "pygments_lexer": "ipython3",
   "version": "3.11.5"
  }
 },
 "nbformat": 4,
 "nbformat_minor": 2
}
